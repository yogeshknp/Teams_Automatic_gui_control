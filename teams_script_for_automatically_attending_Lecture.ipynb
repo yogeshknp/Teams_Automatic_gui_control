{
 "cells": [
  {
   "cell_type": "code",
   "execution_count": null,
   "metadata": {},
   "outputs": [],
   "source": [
    "from pyautogui import *\n",
    "import pyautogui\n",
    "import time\n",
    "import keyboard\n",
    "import random\n",
    "import win32api, win32con\n",
    "from datetime import datetime,time as t,date\n",
    "from IPython.display import clear_output\n"
   ]
  },
  {
   "cell_type": "code",
   "execution_count": null,
   "metadata": {},
   "outputs": [],
   "source": [
    "def click(x,y):\n",
    "    win32api.SetCursorPos((x,y))\n",
    "    win32api.mouse_event(win32con.MOUSEEVENTF_LEFTDOWN,0,0)\n",
    "    win32api.mouse_event(win32con.MOUSEEVENTF_LEFTUP,0,0)"
   ]
  },
  {
   "cell_type": "code",
   "execution_count": null,
   "metadata": {},
   "outputs": [],
   "source": [
    "def click_button(button_images,try_this=50,gs=True):\n",
    "    flag=1\n",
    "    while (flag and try_this>0):\n",
    "        try_this-=1\n",
    "        for button_image in button_images:\n",
    "            button_location = pyautogui.locateOnScreen(button_image, grayscale=gs, confidence=0.8)\n",
    "            if (button_location != None):\n",
    "                flag=0\n",
    "                break\n",
    "    if flag==1:\n",
    "        return 0\n",
    "    button_centre = pyautogui.center(button_location)\n",
    "    pyautogui.click(button_centre.x, button_centre.y)\n",
    "    return button_centre"
   ]
  },
  {
   "cell_type": "code",
   "execution_count": null,
   "metadata": {},
   "outputs": [],
   "source": [
    "teams_button=['teams_button.png','teams_button_active.png','teams_button_active.png']\n",
    "search_bars=['search_bar.png','search_bar2.png','search_bar3.png']\n",
    "join_button=['join.png']\n",
    "video_off=['off_video_button.png']\n",
    "select_audio=['computer_audio.png']\n",
    "audio_off=['off_audio_button.png']\n",
    "join_now=['join_now.png']\n",
    "leave_call=['Leave_call.png','Leave_call_small.png']"
   ]
  },
  {
   "cell_type": "code",
   "execution_count": null,
   "metadata": {},
   "outputs": [],
   "source": [
    "def time_diff(time1,time2):\n",
    "    datetime1 = datetime.combine(date.today(), time1)\n",
    "    datetime2 = datetime.combine(date.today(), time2)\n",
    "    return datetime1 - datetime2\n",
    "\n",
    "def attend_lec(course_name,attend_time_hrs,attend_time_mins,lecture_duration=3600,count=0):\n",
    "    f=1\n",
    "    print(int(lecture_duration/60),'minutes left')\n",
    "    lec_time = t(attend_time_hrs, attend_time_mins)\n",
    "    curr_time = datetime.now().time()\n",
    "\n",
    "    while lec_time>curr_time:\n",
    "        print(\"time left for \",course_name,' ',my_courses[course_name],' : ',int(time_diff(lec_time,curr_time).seconds/60),\" minutes \",\n",
    "              time_diff(lec_time,curr_time).seconds%60,\" seconds\")\n",
    "        time.sleep(1)\n",
    "        curr_time = datetime.now().time()\n",
    "        clear_output(wait=True)\n",
    "    \n",
    "    click_button(teams_button,try_this=10)\n",
    "    time.sleep(1)\n",
    "    p=click_button(search_bars,try_this=10)\n",
    "    if(p==0):\n",
    "        return\n",
    "    time.sleep(1)\n",
    "    keyboard.write(course_name)\n",
    "    time.sleep(1)\n",
    "    click(p.x,p.y+120)\n",
    "    time.sleep(1)\n",
    "    f=click_button(join_button)\n",
    "    time.sleep(1)\n",
    "    if f==0:\n",
    "        if count<2:\n",
    "            print('Request FAILED, trying again in 5 mins')\n",
    "            time.sleep(300)\n",
    "            curr_time = datetime.now().time()\n",
    "            lecture_duration = 3600-(curr_time.minute-attend_time_mins)*60\n",
    "            if lecture_duration<=0:\n",
    "                return\n",
    "            attend_lec(course_name,attend_time_hrs,attend_time_mins,lecture_duration,count+1)\n",
    "        return\n",
    "    click_button(video_off,try_this=4,gs=False)\n",
    "    click_button(select_audio,try_this=2)\n",
    "    click_button(audio_off,try_this=3,gs=False)\n",
    "    \n",
    "    time.sleep(1)\n",
    "    click_button(join_now)\n",
    "    time.sleep(lecture_duration)\n",
    "    click_button(leave_call,try_this=5)"
   ]
  },
  {
   "cell_type": "code",
   "execution_count": null,
   "metadata": {},
   "outputs": [],
   "source": [
    "my_courses={'EE442':'Microwave Engineering Lab',\n",
    "'EE499':'BTP',\n",
    "'EE626':'Pattern Recognition and Machine Learning',\n",
    "'HS-401':'Management of Organizational Behaviour',\n",
    "'EE674':'Sychrophasor Technology',\n",
    "'EE621':'Computer Vision',\n",
    "'EE 661':'Power Electronics for Renewable Energy Systems'}"
   ]
  },
  {
   "cell_type": "markdown",
   "metadata": {},
   "source": [
    "The course_timetable Dictionary should be filled corresponding to user's time table.\n",
    "\n",
    "'week day (mon-sun)':\\['\\<lecture name or number\\>,\\<time(hrs:mins)\\> \\<duration in mins(eg: 60 for 1 hr class)\\>','course_2,14:05 60'\\]"
   ]
  },
  {
   "cell_type": "code",
   "execution_count": null,
   "metadata": {},
   "outputs": [],
   "source": [
    "week_day={0:'mon',1:'tue',2:'wed',3:'thu',4:'fri',5:'sat',6:'sun'}\n",
    "\n",
    "course_timetable = {'mon':['EE422,11:00,60','EE626,12:01,60','EE621,14:02,60','EE674,16:03,60'],\n",
    "                    'tue':['EE626,12:00,60','EE621,14:01,60','EE 661,15:02,60','EE674,16:03,60'],\n",
    "                    'wed':['HS-401,12:00,60','EE 661,13:01,60','EE621,14:02,60'],\n",
    "                    'thu':['HS-401,12:00,60','EE 661,13:01,60','HS401,14:02,60'],\n",
    "                    'fri':['EE626,11:00,60','HS-401,12:01,60','EE674,15:02,60']}\n",
    "#course number should be present in the teams group name"
   ]
  },
  {
   "cell_type": "code",
   "execution_count": null,
   "metadata": {},
   "outputs": [],
   "source": [
    "x = datetime.today().weekday()\n",
    "for course in course_timetable[week_day[x]]:\n",
    "\n",
    "    course_and_time=course.split(',',2)\n",
    "    course_name=course_and_time[0]\n",
    "    Time=course_and_time[1].split(':',1)\n",
    "\n",
    "    attend_time_hrs = int(Time[0])\n",
    "    attend_time_mins = int(Time[1])\n",
    "    lecture_duration = int(course_and_time[2])*60\n",
    "\n",
    "    now_hr = datetime.now().time().hour\n",
    "\n",
    "    if now_hr>attend_time_hrs:\n",
    "        print(course_name,'is done ')\n",
    "        continue\n",
    "    else:\n",
    "        lecture_duration = lecture_duration-((datetime.now().time().minute*60)-attend_time_mins)\n",
    "        print('Joining lecture ',course_name,':',my_courses[course_name])\n",
    "        attend_lec(course_name,attend_time_hrs,attend_time_mins,lecture_duration)\n",
    "\n",
    "print('Done For Today Now Enjoy!')"
   ]
  },
  {
   "cell_type": "code",
   "execution_count": null,
   "metadata": {},
   "outputs": [],
   "source": []
  }
 ],
 "metadata": {
  "kernelspec": {
   "display_name": "Python 3",
   "language": "python",
   "name": "python3"
  },
  "language_info": {
   "codemirror_mode": {
    "name": "ipython",
    "version": 3
   },
   "file_extension": ".py",
   "mimetype": "text/x-python",
   "name": "python",
   "nbconvert_exporter": "python",
   "pygments_lexer": "ipython3",
   "version": "3.9.0"
  }
 },
 "nbformat": 4,
 "nbformat_minor": 4
}
