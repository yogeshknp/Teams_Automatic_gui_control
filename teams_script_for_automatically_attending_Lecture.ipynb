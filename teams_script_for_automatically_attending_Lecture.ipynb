{
 "cells": [
  {
   "cell_type": "code",
   "execution_count": 1,
   "metadata": {},
   "outputs": [],
   "source": [
    "from pyautogui import *\n",
    "import pyautogui\n",
    "import time\n",
    "import keyboard\n",
    "import random\n",
    "import win32api, win32con\n",
    "import datetime as dt\n",
    "from IPython.display import clear_output"
   ]
  },
  {
   "cell_type": "code",
   "execution_count": 2,
   "metadata": {},
   "outputs": [],
   "source": [
    "my_courses={'EE442':'Microwave Engineering Lab',\n",
    "'EE499':'BTP',\n",
    "'EE626':'Pattern Recognition and Machine Learning',\n",
    "'HS-401':'Management of Organizational Behaviour',\n",
    "'EE674':'Sychrophasor Technology',\n",
    "'EE672':'Power Electronics- Chandan Kumar',\n",
    "'EE 661':'Power Electronics for Renewable Energy Systems',\n",
    "'RFIC':'RF circuits: Mahima Arawati'}\n"
   ]
  },
  {
   "cell_type": "code",
   "execution_count": 3,
   "metadata": {},
   "outputs": [],
   "source": [
    "teams_button=['teams_button.png','teams_button_active.png','teams_button_active.png']\n",
    "search_bars=['search_bar.png','search_bar2','search_bar3']\n",
    "join_button=['join.png']\n",
    "video_off=['off_video_button.png']\n",
    "select_audio=['computer_audio.png']\n",
    "audio_off=['off_audio_button.png']\n",
    "join_now=['join_now.png']\n",
    "leave_call=['Leave_call.png','Leave_call_small.png']\n",
    "meeting_now=['meeting_now.png']"
   ]
  },
  {
   "cell_type": "code",
   "execution_count": 4,
   "metadata": {},
   "outputs": [],
   "source": [
    "def click(x,y):\n",
    "    win32api.SetCursorPos((x,y))\n",
    "    win32api.mouse_event(win32con.MOUSEEVENTF_LEFTDOWN,0,0)\n",
    "    win32api.mouse_event(win32con.MOUSEEVENTF_LEFTUP,0,0)"
   ]
  },
  {
   "cell_type": "code",
   "execution_count": 5,
   "metadata": {},
   "outputs": [],
   "source": [
    "def click_button(button_images,try_this=50,gs=True):\n",
    "    flag=1\n",
    "    while (flag and try_this>0):\n",
    "        try_this-=1\n",
    "        for button_image in button_images:\n",
    "            button_location = pyautogui.locateOnScreen(button_image, grayscale=gs, confidence=0.8)\n",
    "            if (button_location != None):\n",
    "                flag=0\n",
    "                break\n",
    "    if flag==1:\n",
    "        return 0\n",
    "    button_centre = pyautogui.center(button_location)\n",
    "    pyautogui.click(button_centre.x, button_centre.y)\n",
    "    return button_centre"
   ]
  },
  {
   "cell_type": "code",
   "execution_count": 6,
   "metadata": {},
   "outputs": [],
   "source": [
    "def leave_call_func():\n",
    "    click_button(teams_button,try_this=10)\n",
    "    time.sleep(1)\n",
    "    click_button(meeting_now,try_this=10)\n",
    "    time.sleep(1)\n",
    "    click_button(leave_call,try_this=10)"
   ]
  },
  {
   "cell_type": "code",
   "execution_count": 7,
   "metadata": {},
   "outputs": [],
   "source": [
    "def time_diff(time1,time2):\n",
    "    datetime1 = dt.datetime.combine(dt.date.today(), time1)\n",
    "    datetime2 = dt.datetime.combine(dt.date.today(), time2)\n",
    "    return datetime1 - datetime2\n",
    "\n",
    "def attend_lec(course_name,attend_time_hrs,attend_time_mins,finish_time,count=0):\n",
    "    f=1\n",
    "    \n",
    "    lec_time = dt.time(attend_time_hrs, attend_time_mins)\n",
    "    curr_time = dt.datetime.now().time()\n",
    "    while lec_time>curr_time:\n",
    "        print(\"time left for \",course_name,' ',my_courses[course_name],' : ',int(time_diff(lec_time,curr_time).seconds/3600),\"hour(s) \",int((time_diff(lec_time,curr_time).seconds/60)%60),\" minutes \",\n",
    "              time_diff(lec_time,curr_time).seconds%60,\" seconds\")\n",
    "        time.sleep(1)\n",
    "        curr_time = dt.datetime.now().time()\n",
    "        clear_output(wait=True)\n",
    "    \n",
    "    click_button(teams_button,try_this=10)\n",
    "    time.sleep(1)\n",
    "    p=click_button(search_bars,try_this=1000000)\n",
    "    if(p==0):\n",
    "        return\n",
    "    time.sleep(1)\n",
    "    keyboard.write(course_name)\n",
    "    time.sleep(1)\n",
    "    click(p.x,p.y+120)\n",
    "    time.sleep(1)\n",
    "    f=click_button(join_button,try_this=100)\n",
    "    time.sleep(1)\n",
    "    if f==0:\n",
    "        if count<3:\n",
    "            print('Request FAILED, trying again in 2 mins')\n",
    "            time.sleep(120)\n",
    "            curr_time = dt.datetime.now().time()\n",
    "            if finish_time<curr_time:\n",
    "                return\n",
    "            attend_lec(course_name,attend_time_hrs,attend_time_mins,finish_time,count+1)\n",
    "        return\n",
    "    click_button(video_off,try_this=4,gs=False)\n",
    "    click_button(select_audio,try_this=2)\n",
    "    click_button(audio_off,try_this=3,gs=False)\n",
    "    time.sleep(1)\n",
    "    click_button(join_now)\n",
    "    curr_time = dt.datetime.now().time()\n",
    "    while finish_time>curr_time:\n",
    "        print(\"In lecture \",course_name,' ',my_courses[course_name],'Time Left: ',int(time_diff(finish_time,curr_time).seconds/3600),\" hour(s) \",int((time_diff(finish_time,curr_time).seconds/60)%60),\" minutes \",\n",
    "              time_diff(finish_time,curr_time).seconds%60,\" seconds\")\n",
    "        time.sleep(1)\n",
    "        curr_time = dt.datetime.now().time()\n",
    "        clear_output(wait=True)\n",
    "    test=click_button(leave_call,try_this=5)\n",
    "    if test==0:\n",
    "        leave_call_func()"
   ]
  },
  {
   "cell_type": "markdown",
   "metadata": {},
   "source": [
    "The course_timetable Dictionary should be filled corresponding to user's time table.\n",
    "\n",
    "'week day (mon-sun)':\\['\\<lecture name or number\\>,\\<time(hrs:mins)\\> \\<duration in mins(eg: 60 for 1 hr class)\\>','course_2,14:05 60'\\]"
   ]
  },
  {
   "cell_type": "code",
   "execution_count": 8,
   "metadata": {},
   "outputs": [],
   "source": [
    "week_day={0:'mon',1:'tue',2:'wed',3:'thu',4:'fri',5:'sat',6:'sun'}\n",
    "course_timetable = {'mon':['EE626,12:00,60','EE672,14:00,60','RFIC,16:01,60'],\n",
    "                    'tue':['EE442,11:00,60','EE626,12:00,60','EE672,14:00,60','EE 661,15:00,60','RFIC,16:01,60'],\n",
    "                    'wed':['HS-401,12:00,60','EE672,14:00,60','EE 661,15:02,60'],\n",
    "                    'thu':['HS-401,12:00,60','EE 661,15:00,60'],\n",
    "                    'fri':['EE626,11:00,60','HS-401,12:00,60','RFIC,15:00,60']}\n",
    "#course number should be present in the teams group name"
   ]
  },
  {
   "cell_type": "code",
   "execution_count": 9,
   "metadata": {},
   "outputs": [
    {
     "name": "stdout",
     "output_type": "stream",
     "text": [
      "time left for  RFIC   RF circuits: Mahima Arawati  :  0 hour(s)  57  minutes  40  seconds\n"
     ]
    },
    {
     "ename": "KeyboardInterrupt",
     "evalue": "",
     "output_type": "error",
     "traceback": [
      "\u001b[1;31m---------------------------------------------------------------------------\u001b[0m",
      "\u001b[1;31mKeyboardInterrupt\u001b[0m                         Traceback (most recent call last)",
      "\u001b[1;32m<ipython-input-9-b6a439b08331>\u001b[0m in \u001b[0;36m<module>\u001b[1;34m\u001b[0m\n\u001b[0;32m     19\u001b[0m     \u001b[1;32melse\u001b[0m\u001b[1;33m:\u001b[0m\u001b[1;33m\u001b[0m\u001b[1;33m\u001b[0m\u001b[0m\n\u001b[0;32m     20\u001b[0m         \u001b[0mprint\u001b[0m\u001b[1;33m(\u001b[0m\u001b[1;34m'Joining lecture '\u001b[0m\u001b[1;33m,\u001b[0m\u001b[0mcourse_name\u001b[0m\u001b[1;33m,\u001b[0m\u001b[1;34m':'\u001b[0m\u001b[1;33m,\u001b[0m\u001b[0mmy_courses\u001b[0m\u001b[1;33m[\u001b[0m\u001b[0mcourse_name\u001b[0m\u001b[1;33m]\u001b[0m\u001b[1;33m,\u001b[0m\u001b[1;34m'till'\u001b[0m\u001b[1;33m,\u001b[0m\u001b[0mfinish_time\u001b[0m\u001b[1;33m)\u001b[0m\u001b[1;33m\u001b[0m\u001b[1;33m\u001b[0m\u001b[0m\n\u001b[1;32m---> 21\u001b[1;33m         \u001b[0mattend_lec\u001b[0m\u001b[1;33m(\u001b[0m\u001b[0mcourse_name\u001b[0m\u001b[1;33m,\u001b[0m\u001b[0mattend_time_hrs\u001b[0m\u001b[1;33m,\u001b[0m\u001b[0mattend_time_mins\u001b[0m\u001b[1;33m,\u001b[0m\u001b[0mfinish_time\u001b[0m\u001b[1;33m)\u001b[0m\u001b[1;33m\u001b[0m\u001b[1;33m\u001b[0m\u001b[0m\n\u001b[0m\u001b[0;32m     22\u001b[0m \u001b[1;33m\u001b[0m\u001b[0m\n\u001b[0;32m     23\u001b[0m \u001b[0mprint\u001b[0m\u001b[1;33m(\u001b[0m\u001b[1;34m'Done For Today Now Enjoy!'\u001b[0m\u001b[1;33m)\u001b[0m\u001b[1;33m\u001b[0m\u001b[1;33m\u001b[0m\u001b[0m\n",
      "\u001b[1;32m<ipython-input-7-31f63b20cf21>\u001b[0m in \u001b[0;36mattend_lec\u001b[1;34m(course_name, attend_time_hrs, attend_time_mins, finish_time, count)\u001b[0m\n\u001b[0;32m     12\u001b[0m         print(\"time left for \",course_name,' ',my_courses[course_name],' : ',int(time_diff(lec_time,curr_time).seconds/3600),\"hour(s) \",int((time_diff(lec_time,curr_time).seconds/60)%60),\" minutes \",\n\u001b[0;32m     13\u001b[0m               time_diff(lec_time,curr_time).seconds%60,\" seconds\")\n\u001b[1;32m---> 14\u001b[1;33m         \u001b[0mtime\u001b[0m\u001b[1;33m.\u001b[0m\u001b[0msleep\u001b[0m\u001b[1;33m(\u001b[0m\u001b[1;36m1\u001b[0m\u001b[1;33m)\u001b[0m\u001b[1;33m\u001b[0m\u001b[1;33m\u001b[0m\u001b[0m\n\u001b[0m\u001b[0;32m     15\u001b[0m         \u001b[0mcurr_time\u001b[0m \u001b[1;33m=\u001b[0m \u001b[0mdt\u001b[0m\u001b[1;33m.\u001b[0m\u001b[0mdatetime\u001b[0m\u001b[1;33m.\u001b[0m\u001b[0mnow\u001b[0m\u001b[1;33m(\u001b[0m\u001b[1;33m)\u001b[0m\u001b[1;33m.\u001b[0m\u001b[0mtime\u001b[0m\u001b[1;33m(\u001b[0m\u001b[1;33m)\u001b[0m\u001b[1;33m\u001b[0m\u001b[1;33m\u001b[0m\u001b[0m\n\u001b[0;32m     16\u001b[0m         \u001b[0mclear_output\u001b[0m\u001b[1;33m(\u001b[0m\u001b[0mwait\u001b[0m\u001b[1;33m=\u001b[0m\u001b[1;32mTrue\u001b[0m\u001b[1;33m)\u001b[0m\u001b[1;33m\u001b[0m\u001b[1;33m\u001b[0m\u001b[0m\n",
      "\u001b[1;31mKeyboardInterrupt\u001b[0m: "
     ]
    }
   ],
   "source": [
    "x = dt.datetime.today().weekday()\n",
    "for course in course_timetable[week_day[x]]:\n",
    "\n",
    "    course_and_time=course.split(',',2)\n",
    "    course_name=course_and_time[0]\n",
    "    Time=course_and_time[1].split(':',1)\n",
    "\n",
    "    attend_time_hrs = int(Time[0])\n",
    "    attend_time_mins = int(Time[1])\n",
    "    lecture_duration = int(course_and_time[2])\n",
    "    \n",
    "    finish_time=dt.timedelta(hours=attend_time_hrs, minutes=attend_time_mins) + dt.timedelta(hours=lecture_duration/60, minutes=lecture_duration%60)\n",
    "    curr_time = dt.datetime.now().time()\n",
    "    finish_time = (dt.datetime.min + finish_time).time()\n",
    "    \n",
    "    if finish_time<curr_time:\n",
    "        print(course_name,':',my_courses[course_name],'is done ')\n",
    "        continue\n",
    "    else:\n",
    "        print('Joining lecture ',course_name,':',my_courses[course_name],'till',finish_time)\n",
    "        attend_lec(course_name,attend_time_hrs,attend_time_mins,finish_time)\n",
    "\n",
    "print('Done For Today Now Enjoy!')"
   ]
  },
  {
   "cell_type": "code",
   "execution_count": null,
   "metadata": {},
   "outputs": [],
   "source": []
  },
  {
   "cell_type": "code",
   "execution_count": null,
   "metadata": {},
   "outputs": [],
   "source": []
  },
  {
   "cell_type": "code",
   "execution_count": null,
   "metadata": {},
   "outputs": [],
   "source": []
  }
 ],
 "metadata": {
  "kernelspec": {
   "display_name": "Python 3",
   "language": "python",
   "name": "python3"
  },
  "language_info": {
   "codemirror_mode": {
    "name": "ipython",
    "version": 3
   },
   "file_extension": ".py",
   "mimetype": "text/x-python",
   "name": "python",
   "nbconvert_exporter": "python",
   "pygments_lexer": "ipython3",
   "version": "3.9.0"
  }
 },
 "nbformat": 4,
 "nbformat_minor": 4
}
