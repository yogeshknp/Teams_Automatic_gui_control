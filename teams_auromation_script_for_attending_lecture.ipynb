{
 "cells": [
  {
   "cell_type": "code",
   "execution_count": null,
   "metadata": {},
   "outputs": [],
   "source": [
    "from pyautogui import *\n",
    "import pyautogui\n",
    "import time\n",
    "import keyboard\n",
    "import random\n",
    "import win32api, win32con\n",
    "from datetime import datetime,time as t,date\n",
    "from IPython.display import clear_output\n"
   ]
  },
  {
   "cell_type": "code",
   "execution_count": null,
   "metadata": {},
   "outputs": [],
   "source": [
    "def click(x,y):\n",
    "    win32api.SetCursorPos((x,y))\n",
    "    win32api.mouse_event(win32con.MOUSEEVENTF_LEFTDOWN,0,0)\n",
    "    win32api.mouse_event(win32con.MOUSEEVENTF_LEFTUP,0,0)"
   ]
  },
  {
   "cell_type": "code",
   "execution_count": null,
   "metadata": {},
   "outputs": [],
   "source": [
    "def click_button(button_images):\n",
    "    flag=1\n",
    "    while (flag):\n",
    "        for button_image in button_images:\n",
    "            button_location = pyautogui.locateOnScreen(button_image, grayscale=True, confidence=0.8)\n",
    "            if (button_location != None):\n",
    "                print(button_image,\" executed!\")\n",
    "                flag=0\n",
    "                break\n",
    "    button_centre = pyautogui.center(button_location)\n",
    "    pyautogui.click(button_centre.x, button_centre.y)\n",
    "    return button_centre"
   ]
  },
  {
   "cell_type": "code",
   "execution_count": null,
   "metadata": {},
   "outputs": [],
   "source": [
    "def time_diff(time1,time2):\n",
    "    datetime1 = datetime.combine(date.today(), time1)\n",
    "    datetime2 = datetime.combine(date.today(), time2)\n",
    "    return datetime1 - datetime2\n",
    "\n",
    "def attend_lec(course_name,attend_time_hrs,attend_time_mins,lecture_duration=3600):\n",
    "    lec_time = t(attend_time_hrs, attend_time_mins)\n",
    "    curr_time = datetime.now().time()\n",
    "\n",
    "    while lec_time>curr_time:\n",
    "        print(\"time left for \",course_name,' : ',int(time_diff(lec_time,curr_time).seconds/60),\" minutes \",\n",
    "              time_diff(lec_time,curr_time).seconds%60,\" seconds\")\n",
    "        time.sleep(1)\n",
    "        curr_time = datetime.now().time()\n",
    "        clear_output(wait=True)\n",
    "    \n",
    "    click_button(['teams_button.png','teams_button_active.png'])\n",
    "    p=click_button(['search_bar.png'])\n",
    "    print(p)\n",
    "    time.sleep(1)\n",
    "    keyboard.write(course_name)\n",
    "    time.sleep(1)\n",
    "    click(p.x,p.y+120)\n",
    "    click_button(['join.png'])\n",
    "    time.sleep(1)\n",
    "    button_location = pyautogui.locateOnScreen('off_video_button.png', grayscale=True, confidence=0.8)\n",
    "    if (button_location != None):\n",
    "        button_centre = pyautogui.center(button_location)\n",
    "        pyautogui.click(button_centre.x, button_centre.y)\n",
    "    click_button(['Audio_No.png'])\n",
    "    time.sleep(1)\n",
    "    click_button(['join_now.png'])\n",
    "    time.sleep(lecture_duration)\n",
    "    click_button(['Leave_call.png'])"
   ]
  },
  {
   "cell_type": "markdown",
   "metadata": {},
   "source": [
    "The course_timetable Dictionary should be filled corresponding to user's time table.\n",
    "\n",
    "'week day (mon-sun)':\\['lecture name or number time(hrs:mins) duration in mins(eg: 60 for 1 hr class)','course_2 14:05 60'\\]"
   ]
  },
  {
   "cell_type": "code",
   "execution_count": null,
   "metadata": {},
   "outputs": [],
   "source": [
    "week_day={0:'mon',1:'tue',2:'wed',3:'thu',4:'fri',5:'sat',6:'sun'}\n",
    "\n",
    "course_timetable = {'mon':['code_test 13:00 60','course_2 14:05 60'],\n",
    "                    'tue':['code_test 12:59 60','course_3 14:05 60'],\n",
    "                    'wed':[],\n",
    "                    'thu':[],\n",
    "                    'fri':[],\n",
    "                    'sat':[]}"
   ]
  },
  {
   "cell_type": "code",
   "execution_count": null,
   "metadata": {},
   "outputs": [],
   "source": [
    "x = datetime.today().weekday()\n",
    "for course in course_timetable[week_day[x]]:\n",
    "    \n",
    "    course_and_time=course.split(' ',2)\n",
    "    course_name=course_and_time[0]\n",
    "    Time=course_and_time[1].split(':',1)\n",
    "    \n",
    "    attend_time_hrs = int(Time[0])\n",
    "    attend_time_mins = int(Time[1])\n",
    "    lecture_duration = int(course_and_time[2])*60\n",
    "    \n",
    "    now_hr = datetime.now().time().hour\n",
    "    if now_hr>attend_time_hrs:\n",
    "        continue\n",
    "    else:\n",
    "        attend_lec(course_name,attend_time_hrs,attend_time_mins,lecture_duration)"
   ]
  },
  {
   "cell_type": "code",
   "execution_count": null,
   "metadata": {},
   "outputs": [],
   "source": []
  }
 ],
 "metadata": {
  "kernelspec": {
   "display_name": "Python 3",
   "language": "python",
   "name": "python3"
  },
  "language_info": {
   "codemirror_mode": {
    "name": "ipython",
    "version": 3
   },
   "file_extension": ".py",
   "mimetype": "text/x-python",
   "name": "python",
   "nbconvert_exporter": "python",
   "pygments_lexer": "ipython3",
   "version": "3.9.0"
  }
 },
 "nbformat": 4,
 "nbformat_minor": 4
}
