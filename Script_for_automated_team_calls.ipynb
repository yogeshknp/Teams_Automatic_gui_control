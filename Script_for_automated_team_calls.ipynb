{
 "cells": [
  {
   "cell_type": "code",
   "execution_count": 27,
   "metadata": {},
   "outputs": [],
   "source": [
    "from pyautogui import *\n",
    "import pyautogui\n",
    "import time\n",
    "import keyboard\n",
    "import random\n",
    "import win32api, win32con\n",
    "from datetime import datetime,time as t,date\n",
    "from IPython.display import clear_output\n"
   ]
  },
  {
   "cell_type": "code",
   "execution_count": 28,
   "metadata": {},
   "outputs": [],
   "source": [
    "def click(x,y):\n",
    "    win32api.SetCursorPos((x,y))\n",
    "    win32api.mouse_event(win32con.MOUSEEVENTF_LEFTDOWN,0,0)\n",
    "    win32api.mouse_event(win32con.MOUSEEVENTF_LEFTUP,0,0)"
   ]
  },
  {
   "cell_type": "code",
   "execution_count": 29,
   "metadata": {},
   "outputs": [],
   "source": [
    "def click_button(button_images,try_this=100000,gs=True):\n",
    "    flag=1\n",
    "    while (flag and try_this>0):\n",
    "        try_this-=1\n",
    "        for button_image in button_images:\n",
    "            button_location = pyautogui.locateOnScreen(button_image, grayscale=gs, confidence=0.8)\n",
    "            if (button_location != None):\n",
    "                flag=0\n",
    "                break\n",
    "    if flag==1:\n",
    "        return 0\n",
    "    button_centre = pyautogui.center(button_location)\n",
    "    pyautogui.click(button_centre.x, button_centre.y)\n",
    "    return button_centre"
   ]
  },
  {
   "cell_type": "code",
   "execution_count": 30,
   "metadata": {},
   "outputs": [],
   "source": [
    "teams_button=['teams_button.png','teams_button_active.png','teams_button_active.png']\n",
    "search_bars=['search_bar.png','search_bar2.png','search_bar3.png']\n",
    "video_call=['video_call_button.png','join.png']\n",
    "audio_call=['audio_call_button.png','join.png']\n",
    "audio_off=['off_audio_button.png']#before call audio off button\n",
    "join_now=['join_now.png']\n",
    "leave_call=['Leave_call.png','Leave_call_small.png']\n",
    "mute_button=['mute_button.png']#on call mute button\n",
    "video_off=['off_video_button.png']"
   ]
  },
  {
   "cell_type": "code",
   "execution_count": 37,
   "metadata": {},
   "outputs": [],
   "source": [
    "def call_friend(friend_name,video=0,mute=1):\n",
    "    click_button(teams_button,try_this=10)\n",
    "    time.sleep(1)\n",
    "    p=click_button(search_bars)\n",
    "    if(p==0):\n",
    "        return\n",
    "    time.sleep(1)\n",
    "    keyboard.write(friend_name)\n",
    "    time.sleep(1)\n",
    "    click(p.x,p.y+120)\n",
    "    if video==1:\n",
    "        click_button(video_call)\n",
    "    else:\n",
    "        click_button(audio_call)\n",
    "    if mute==1:\n",
    "        click_button(mute_button,gs=False,try_this=10)\n",
    "    if video==0:\n",
    "        time.sleep(5)\n",
    "        click_button(video_off,try_this=5)\n",
    "    click_button(leave_call)"
   ]
  },
  {
   "cell_type": "code",
   "execution_count": 38,
   "metadata": {},
   "outputs": [],
   "source": [
    "call_friend(\"Yogesh\",video=0,mute=1)"
   ]
  }
 ],
 "metadata": {
  "kernelspec": {
   "display_name": "Python 3",
   "language": "python",
   "name": "python3"
  },
  "language_info": {
   "codemirror_mode": {
    "name": "ipython",
    "version": 3
   },
   "file_extension": ".py",
   "mimetype": "text/x-python",
   "name": "python",
   "nbconvert_exporter": "python",
   "pygments_lexer": "ipython3",
   "version": "3.9.0"
  }
 },
 "nbformat": 4,
 "nbformat_minor": 4
}
