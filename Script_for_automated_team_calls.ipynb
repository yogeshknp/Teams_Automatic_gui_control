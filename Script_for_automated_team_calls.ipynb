{
 "cells": [
  {
   "cell_type": "code",
   "execution_count": 1,
   "metadata": {},
   "outputs": [],
   "source": [
    "from pyautogui import *\n",
    "import pyautogui\n",
    "import time\n",
    "import keyboard\n",
    "import random\n",
    "import win32api, win32con\n",
    "from datetime import datetime,time as t,date\n",
    "from IPython.display import clear_output\n"
   ]
  },
  {
   "cell_type": "code",
   "execution_count": 2,
   "metadata": {},
   "outputs": [],
   "source": [
    "def click(x,y):\n",
    "    win32api.SetCursorPos((x,y))\n",
    "    win32api.mouse_event(win32con.MOUSEEVENTF_LEFTDOWN,0,0)\n",
    "    win32api.mouse_event(win32con.MOUSEEVENTF_LEFTUP,0,0)"
   ]
  },
  {
   "cell_type": "code",
   "execution_count": 3,
   "metadata": {},
   "outputs": [],
   "source": [
    "def click_button(button_images):\n",
    "    flag=1\n",
    "    while (flag):\n",
    "        for button_image in button_images:\n",
    "            button_location = pyautogui.locateOnScreen(button_image, grayscale=True, confidence=0.8)\n",
    "            if (button_location != None):\n",
    "                print(button_image,\" executed!\")\n",
    "                flag=0\n",
    "                break\n",
    "    button_centre = pyautogui.center(button_location)\n",
    "    pyautogui.click(button_centre.x, button_centre.y)\n",
    "    return button_centre"
   ]
  },
  {
   "cell_type": "code",
   "execution_count": 6,
   "metadata": {},
   "outputs": [],
   "source": [
    "def call_friend(friend_name,video=0,mute=1):\n",
    "    click_button(['teams_button.png','teams_button_active.png'])\n",
    "    p=click_button(['search_bar.png'])\n",
    "    print(p)\n",
    "    time.sleep(1)\n",
    "    keyboard.write(friend_name)\n",
    "    time.sleep(1)\n",
    "    click(p.x,p.y+120)\n",
    "    if video==1:\n",
    "        click_button(['video_call_button.png','join.png'])\n",
    "    else:\n",
    "        click_button(['audio_call_button.png','join.png'])\n",
    "    if mute==1:\n",
    "        time.sleep(1)\n",
    "        click_button(['mute_button.png'])\n",
    "        time.sleep(5)\n",
    "        click_button(['video_off_button.png'])"
   ]
  },
  {
   "cell_type": "code",
   "execution_count": 7,
   "metadata": {},
   "outputs": [
    {
     "name": "stdout",
     "output_type": "stream",
     "text": [
      "teams_button.png  executed!\n",
      "search_bar.png  executed!\n",
      "Point(x=526, y=21)\n",
      "audio_call_button.png  executed!\n",
      "mute_button.png  executed!\n",
      "video_off_button.png  executed!\n"
     ]
    }
   ],
   "source": [
    "call_friend(\"yogesh\",video=0,mute=1)"
   ]
  },
  {
   "cell_type": "code",
   "execution_count": null,
   "metadata": {},
   "outputs": [],
   "source": []
  }
 ],
 "metadata": {
  "kernelspec": {
   "display_name": "Python 3",
   "language": "python",
   "name": "python3"
  },
  "language_info": {
   "codemirror_mode": {
    "name": "ipython",
    "version": 3
   },
   "file_extension": ".py",
   "mimetype": "text/x-python",
   "name": "python",
   "nbconvert_exporter": "python",
   "pygments_lexer": "ipython3",
   "version": "3.9.0"
  }
 },
 "nbformat": 4,
 "nbformat_minor": 4
}
