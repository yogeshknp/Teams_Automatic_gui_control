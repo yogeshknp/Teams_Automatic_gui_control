{
 "cells": [
  {
   "cell_type": "code",
   "execution_count": 41,
   "metadata": {},
   "outputs": [],
   "source": [
    "from pyautogui import *\n",
    "import pyautogui\n",
    "import time\n",
    "import keyboard\n",
    "import random\n",
    "import win32api, win32con\n",
    "from datetime import datetime,time as t,date"
   ]
  },
  {
   "cell_type": "code",
   "execution_count": 2,
   "metadata": {},
   "outputs": [],
   "source": [
    "def click(x,y):\n",
    "    win32api.SetCursorPos((x,y))\n",
    "    win32api.mouse_event(win32con.MOUSEEVENTF_LEFTDOWN,0,0)\n",
    "    win32api.mouse_event(win32con.MOUSEEVENTF_LEFTUP,0,0)"
   ]
  },
  {
   "cell_type": "code",
   "execution_count": 3,
   "metadata": {},
   "outputs": [],
   "source": [
    "def click_button(button_images):\n",
    "    flag=1\n",
    "    while (flag):\n",
    "        for button_image in button_images:\n",
    "            button_location = pyautogui.locateOnScreen(button_image, grayscale=True, confidence=0.8)\n",
    "            if (button_location != None):\n",
    "                print(button_image,\" executed!\")\n",
    "                flag=0\n",
    "                break\n",
    "    button_centre = pyautogui.center(button_location)\n",
    "    pyautogui.click(button_centre.x, button_centre.y)\n",
    "    return button_centre"
   ]
  },
  {
   "cell_type": "code",
   "execution_count": 4,
   "metadata": {},
   "outputs": [],
   "source": [
    "def call_friend(friend_name,video=0,mute=1):\n",
    "    click_button(['teams_button.png','teams_button_active.png'])\n",
    "    p=click_button(['search_bar.png'])\n",
    "    print(p)\n",
    "    time.sleep(1)\n",
    "    keyboard.write(friend_name)\n",
    "    time.sleep(1)\n",
    "    click(p.x,p.y+120)\n",
    "    if video==1:\n",
    "        click_button(['video_call_button.png','join.png'])\n",
    "    else:\n",
    "        click_button(['audio_call_button.png','join.png'])\n",
    "    if mute==1:\n",
    "        time.sleep(1)\n",
    "        click_button(['mute_button.png'])\n",
    "        time.sleep(5)\n",
    "        click_button(['video_off_button.png'])\n"
   ]
  },
  {
   "cell_type": "code",
   "execution_count": null,
   "metadata": {},
   "outputs": [],
   "source": [
    "call_friend(\"mrin\",video=0,mute=1)"
   ]
  },
  {
   "cell_type": "code",
   "execution_count": 66,
   "metadata": {},
   "outputs": [],
   "source": [
    "def time_diff(time1,time2):\n",
    "    datetime1 = datetime.combine(date.today(), time1)\n",
    "    datetime2 = datetime.combine(date.today(), time2)\n",
    "    return datetime1 - datetime2\n",
    "\n",
    "def attend_lec(course_name,attend_time_hrs,attend_time_mins,lecture_duration=3600):\n",
    "    lec_time = t(attend_time_hrs, attend_time_mins)\n",
    "    curr_time = datetime.now().time()\n",
    "\n",
    "    while lec_time>curr_time:\n",
    "        print(\"time left for the class:\",int(time_diff(lec_time,curr_time).seconds/60),\" minutes \",\n",
    "              time_diff(lec_time,curr_time).seconds%60,\" seconds\")\n",
    "        time.sleep(1)\n",
    "        curr_time = datetime.now().time()\n",
    "        clear_output(wait=True)\n",
    "    \n",
    "    click_button(['teams_button.png','teams_button_active.png'])\n",
    "    p=click_button(['search_bar.png'])\n",
    "    print(p)\n",
    "    time.sleep(1)\n",
    "    keyboard.write(course_name)\n",
    "    time.sleep(1)\n",
    "    click(p.x,p.y+120)\n",
    "    click_button(['join.png'])\n",
    "    time.sleep(1)\n",
    "    button_location = pyautogui.locateOnScreen('off_video_button.png', grayscale=True, confidence=0.8)\n",
    "    if (button_location != None):\n",
    "        button_centre = pyautogui.center(button_location)\n",
    "        pyautogui.click(button_centre.x, button_centre.y)\n",
    "    click_button(['Audio_No.png'])\n",
    "    time.sleep(1)\n",
    "    click_button(['join_now.png'])\n",
    "    time.sleep(lecture_duration)\n",
    "    click_button(['Leave_call.png'])"
   ]
  },
  {
   "cell_type": "code",
   "execution_count": null,
   "metadata": {},
   "outputs": [],
   "source": [
    "course_name = \"code_test\"\n",
    "attend_time_hrs = 23 # use 24hr clock\n",
    "attend_time_mins = 50\n",
    "lecture_duration = 20 #in seconds\n",
    "\n",
    "attend_lec(course_name, attend_time_hrs, attend_time_mins, lecture_duration)"
   ]
  },
  {
   "cell_type": "code",
   "execution_count": 69,
   "metadata": {},
   "outputs": [],
   "source": [
    "from IPython.display import clear_output\n",
    "clear_output(wait=True)"
   ]
  },
  {
   "cell_type": "code",
   "execution_count": null,
   "metadata": {},
   "outputs": [],
   "source": []
  }
 ],
 "metadata": {
  "kernelspec": {
   "display_name": "Python 3",
   "language": "python",
   "name": "python3"
  },
  "language_info": {
   "codemirror_mode": {
    "name": "ipython",
    "version": 3
   },
   "file_extension": ".py",
   "mimetype": "text/x-python",
   "name": "python",
   "nbconvert_exporter": "python",
   "pygments_lexer": "ipython3",
   "version": "3.7.7"
  }
 },
 "nbformat": 4,
 "nbformat_minor": 4
}
